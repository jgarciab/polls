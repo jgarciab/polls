{
 "cells": [
  {
   "cell_type": "code",
   "execution_count": 43,
   "metadata": {
    "collapsed": true
   },
   "outputs": [],
   "source": [
    "import pandas as pd\n",
    "\n",
    "import requests\n",
    "import bs4 as bs\n",
    "from urllib.parse import urljoin\n",
    "import pickle\n",
    "\n",
    "import os\n",
    "\n",
    "%matplotlib inline"
   ]
  },
  {
   "cell_type": "markdown",
   "metadata": {},
   "source": [
    "# Test (Spain)\n",
    "\n",
    "https://en.wikipedia.org/wiki/Category:Opinion_polling_in_Spain"
   ]
  },
  {
   "cell_type": "code",
   "execution_count": 37,
   "metadata": {
    "collapsed": false
   },
   "outputs": [
    {
     "name": "stdout",
     "output_type": "stream",
     "text": [
      "['https://en.wikipedia.org/wiki/Opinion_polling_for_the_Spanish_general_election,_1982', 'https://en.wikipedia.org/wiki/Opinion_polling_for_the_Spanish_general_election,_1986', 'https://en.wikipedia.org/wiki/Opinion_polling_for_the_Spanish_general_election,_1989', 'https://en.wikipedia.org/wiki/Opinion_polling_for_the_Spanish_general_election,_1993', 'https://en.wikipedia.org/wiki/Opinion_polling_for_the_Spanish_general_election,_1996', 'https://en.wikipedia.org/wiki/Opinion_polling_for_the_Spanish_general_election,_2000', 'https://en.wikipedia.org/wiki/Opinion_polling_for_the_Spanish_general_election,_2004', 'https://en.wikipedia.org/wiki/Opinion_polling_for_the_Spanish_general_election,_2008', 'https://en.wikipedia.org/wiki/Opinion_polling_for_the_Spanish_general_election,_2011', 'https://en.wikipedia.org/wiki/Opinion_polling_for_the_Spanish_general_election,_2015', 'https://en.wikipedia.org/wiki/Opinion_polling_for_the_Spanish_general_election,_2016', 'https://en.wikipedia.org/wiki/Opinion_polling_for_the_next_Spanish_general_election']\n"
     ]
    }
   ],
   "source": [
    "#Get all election links\n",
    "\n",
    "#restrictions in link\n",
    "restrictions = [\"Opinion polling\",\"general election\"]\n",
    "#main url\n",
    "url = \"https://en.wikipedia.org/wiki/Category:Opinion_polling_in_Spain\"\n",
    "\n",
    "#Extract all links\n",
    "links = []\n",
    "r = requests.get(url)\n",
    "if r.ok:\n",
    "    html = bs.BeautifulSoup(r.text,\"html.parser\")\n",
    "    for link in html.find_all(\"a\"):\n",
    "        if link.has_attr('href') and all([restr in link.text for restr in restrictions]): #check restrictions\n",
    "            links.append(urljoin(url,link[\"href\"]))\n",
    "print(links)\n",
    "                    \n",
    "                    "
   ]
  },
  {
   "cell_type": "code",
   "execution_count": 100,
   "metadata": {
    "collapsed": false
   },
   "outputs": [],
   "source": [
    "def check_not_number(x):\n",
    "    try:\n",
    "        float(x.split(\"/\")[0])\n",
    "        return False\n",
    "    except:\n",
    "        return True"
   ]
  },
  {
   "cell_type": "code",
   "execution_count": 103,
   "metadata": {
    "collapsed": false
   },
   "outputs": [
    {
     "name": "stdout",
     "output_type": "stream",
     "text": [
      "mkdir: cannot create directory ‘data/individual_tables/Spain’: File exists\n",
      "https://en.wikipedia.org/wiki/Opinion_polling_for_the_Spanish_general_election,_1982\n",
      "Index(['firm', 'date', 'UCD', 'PSOE', 'PCE', 'AP–PDP', 'CiU', 'PNV', 'CDS',\n",
      "       'error', 'size', 'Lead'],\n",
      "      dtype='object')\n",
      "https://en.wikipedia.org/wiki/Opinion_polling_for_the_Spanish_general_election,_1986\n",
      "Index(['firm', 'date', 'PSOE', 'AP-PDP-PL', 'IU', 'CiU', 'CDS', 'PNV', 'PRD',\n",
      "       'error', 'size', 'Lead'],\n",
      "      dtype='object')\n",
      "https://en.wikipedia.org/wiki/Opinion_polling_for_the_Spanish_general_election,_1989\n",
      "Index(['firm', 'date', 'size', 'Turnout', 'PSOE', 'AP', 'CDS', 'CiU', 'IU',\n",
      "       'PNV', 'HB', 'EE', 'PA', 'ERC', 'CG', '/wiki/Galician_Coalition', 'AIC',\n",
      "       'PAR', 'PSG–EG', 'LV', '/wiki/Canarian_Independent_Groups', 'UV',\n",
      "       '/wiki/Galician_Socialist_Party%E2%80%93Galician_Left', 'ARM', 'Lead'],\n",
      "      dtype='object')\n",
      "https://en.wikipedia.org/wiki/Opinion_polling_for_the_Spanish_general_election,_1993\n",
      "Index(['firm', 'date', 'size', 'Turnout', 'PSOE', 'PP', 'IU', 'CDS', 'CiU',\n",
      "       'PNV', 'HB', 'PA', 'LV', '/wiki/Confederation_of_the_Greens', 'UV',\n",
      "       'EA', 'EE', 'ERC', 'PAR', 'BNG', 'CC',\n",
      "       '/wiki/Galician_Nationalist_Bloc', 'PAP', 'Lead'],\n",
      "      dtype='object')\n",
      "https://en.wikipedia.org/wiki/Opinion_polling_for_the_Spanish_general_election,_1996\n",
      "Index(['firm', 'date', 'size', 'Turnout', 'PSOE', 'PP', 'IU', 'CiU', 'CDS',\n",
      "       'PNV', 'CC', 'HB', 'ERC', 'PAR', 'EA', 'BNG',\n",
      "       '/wiki/Galician_Nationalist_Bloc', 'UV', 'Lead'],\n",
      "      dtype='object')\n",
      "https://en.wikipedia.org/wiki/Opinion_polling_for_the_Spanish_general_election,_2000\n",
      "Index(['firm', 'date', 'size', 'Turnout', 'PP', 'PSOE', 'IU', 'CiU', 'PNV',\n",
      "       'CC', 'BNG', '/wiki/Galician_Nationalist_Bloc', 'HB', 'ERC', 'PA', 'EA',\n",
      "       'UV', 'NI/IC', 'Lead'],\n",
      "      dtype='object')\n",
      "https://en.wikipedia.org/wiki/Opinion_polling_for_the_Spanish_general_election,_2004\n",
      "Index(['firm', 'date', 'size', 'Turnout', 'PP', 'PSOE', 'IU', 'CiU', 'PNV',\n",
      "       'BNG', '/wiki/Galician_Nationalist_Bloc', 'CC', 'PA', 'ERC', 'ICV',\n",
      "       'EA', 'PIB', 'CHA', '/wiki/Progressives_for_the_Balearic_Islands',\n",
      "       'Lead'],\n",
      "      dtype='object')\n",
      "https://en.wikipedia.org/wiki/Opinion_polling_for_the_Spanish_general_election,_2008\n",
      "Index(['firm', 'date', 'size', 'Turnout', 'PSOE', 'PP', 'IU', 'CiU', 'ERC',\n",
      "       'PNV', 'CC', 'BNG', '/wiki/Galician_Nationalist_Bloc', 'CHA', 'EA',\n",
      "       'UIB', 'NaBai', '/wiki/Unity_for_the_Isles', 'Aralar', 'C's', 'Lead'],\n",
      "      dtype='object')\n",
      "https://en.wikipedia.org/wiki/Opinion_polling_for_the_Spanish_general_election,_2011\n",
      "Index(['firm', 'date', 'size', 'Turnout', 'PSOE', 'PP', 'IU–LV', 'CiU', 'PNV',\n",
      "       'UPyD', 'ERC', 'BNG', '/wiki/Galician_Nationalist_Bloc', 'CC', 'PA',\n",
      "       'GBai', 'PSM', 'Compromís', '/wiki/PSM%E2%80%93Nationalist_Agreement',\n",
      "       'UPN', 'Amaiur logo.svg', 'FAC', 'PRC', 'Lead'],\n",
      "      dtype='object')\n",
      "https://en.wikipedia.org/wiki/Opinion_polling_for_the_Spanish_general_election,_2015\n",
      "Index(['firm', 'date', 'size', 'Turnout', 'PP', 'PSOE', 'IU–UPeC', 'Podemos',\n",
      "       'UPyD', 'ERC–CatSí', 'CiU', 'C's', 'Vox', 'Amaiur logo.svg', 'PNV',\n",
      "       'eQuo', 'Compromís', 'BNG', '/wiki/Galician_Nationalist_Bloc', 'CC',\n",
      "       'PA', 'FAC', 'GBai', 'PRC', 'Més', 'CUP', 'NCa', 'CDC', 'Lead'],\n",
      "      dtype='object')\n",
      "https://en.wikipedia.org/wiki/Opinion_polling_for_the_Spanish_general_election,_2016\n",
      "Index(['firm', 'date', 'size', 'Turnout', 'PP', 'PSOE', 'Podemos', 'C's',\n",
      "       'IU–UPeC', 'ERC–CatSí', 'DiL', 'PNV', 'PACMA', 'EHB.png', 'CC', 'BNG',\n",
      "       '/wiki/Galician_Nationalist_Bloc', 'Lead'],\n",
      "      dtype='object')\n",
      "https://en.wikipedia.org/wiki/Opinion_polling_for_the_next_Spanish_general_election\n",
      "Index(['firm', 'date', 'size', 'Turnout', 'PP', 'PSOE',\n",
      "       'Isotipo Unidos Podemos.svg', 'Cs', 'ERC', 'PDeCAT', 'PNV', 'PACMA',\n",
      "       'EHB.png', 'CC', 'Vox', 'BNG–Nós', 'Lead'],\n",
      "      dtype='object')\n"
     ]
    }
   ],
   "source": [
    "all_tables = []\n",
    "country = \"Spain\"\n",
    "!mkdir data/individual_tables/$country\n",
    "\n",
    "#position table in website\n",
    "table_position = 0\n",
    "for p_url in links:\n",
    "    #Main ulr\n",
    "    #p_url = \"https://en.wikipedia.org/wiki/Opinion_polling_for_the_Spanish_general_election,_1982\"\n",
    "\n",
    "    #Get columns\n",
    "    r = requests.get(p_url)\n",
    "    html = bs.BeautifulSoup(r.text,\"html.parser\")\n",
    "    tables = html.find_all(\"table\")[table_position]\n",
    "\n",
    "    rows = tables.find_all(\"th\")\n",
    "    columns = [r.find(\"img\")[\"alt\"] if (r.find(\"img\") is not None) else (r.find(\"a\")[\"href\"] if (r.find(\"a\") is not None) else None) for r in rows ]\n",
    "    columns = [_ for _ in columns if _ is not None]\n",
    "    \n",
    "    #Get tables of polls\n",
    "    polls = pd.read_html(r.text,header=0)[table_position]\n",
    "\n",
    "    #Rename columns\n",
    "    types = [\"firm\",\"date\",\"error\",\"size\",\"lead\"]\n",
    "    new_cols = []\n",
    "    for col in polls.columns:\n",
    "        flag = 0\n",
    "        for t in types:\n",
    "            if t in col:\n",
    "                new_cols.append(t)\n",
    "                flag = 1\n",
    "                break\n",
    "        if flag == 0:\n",
    "            if \"Unnamed\" in col:\n",
    "                new_cols.append(columns.pop(0))\n",
    "            else:\n",
    "                new_cols.append(col)\n",
    "    print(p_url)\n",
    "    polls.columns = new_cols\n",
    "    print(polls.columns)\n",
    "    polls[\"date\"] = polls[\"date\"].str.split(\"–\").str[-1]\n",
    "    polls = polls.loc[polls[\"date\"].apply(check_not_number)]\n",
    "    \n",
    "    polls.to_csv(\"data/individual_tables/{}/{}.csv\".format(country,p_url.split(\"/\")[-1]))\n",
    "    \n",
    "    #all_tables.append(polls)"
   ]
  },
  {
   "cell_type": "code",
   "execution_count": 108,
   "metadata": {
    "collapsed": false
   },
   "outputs": [],
   "source": [
    "country = \"Spain\"\n",
    "\n",
    "#combine tables\n",
    "all_tables = []\n",
    "for table in os.listdir(\"./data/individual_tables/{}\".format(country)):\n",
    "    all_tables.append(pd.read_csv(\"data/individual_tables/{}/{}\".format(country,table),parse_dates=[\"date\"],na_values=[\"–\",\"?\"]))\n",
    "    "
   ]
  },
  {
   "cell_type": "code",
   "execution_count": 109,
   "metadata": {
    "collapsed": false
   },
   "outputs": [],
   "source": [
    "all_tables = pd.concat(all_tables)\n",
    "all_tables.to_csv(\"./data/all_tables_Spain.csv\",index=None)"
   ]
  },
  {
   "cell_type": "markdown",
   "metadata": {},
   "source": [
    "# Systematical"
   ]
  },
  {
   "cell_type": "code",
   "execution_count": null,
   "metadata": {
    "collapsed": true
   },
   "outputs": [],
   "source": [
    "#Opinion polling by country\n",
    "https://en.wikipedia.org/wiki/Category:Opinion_polling_by_country"
   ]
  },
  {
   "cell_type": "code",
   "execution_count": null,
   "metadata": {
    "collapsed": true
   },
   "outputs": [],
   "source": []
  },
  {
   "cell_type": "code",
   "execution_count": null,
   "metadata": {
    "collapsed": true
   },
   "outputs": [],
   "source": []
  },
  {
   "cell_type": "code",
   "execution_count": null,
   "metadata": {
    "collapsed": true
   },
   "outputs": [],
   "source": []
  },
  {
   "cell_type": "code",
   "execution_count": null,
   "metadata": {
    "collapsed": true
   },
   "outputs": [],
   "source": []
  }
 ],
 "metadata": {
  "anaconda-cloud": {},
  "kernelspec": {
   "display_name": "Python [default]",
   "language": "python",
   "name": "python3"
  },
  "language_info": {
   "codemirror_mode": {
    "name": "ipython",
    "version": 3
   },
   "file_extension": ".py",
   "mimetype": "text/x-python",
   "name": "python",
   "nbconvert_exporter": "python",
   "pygments_lexer": "ipython3",
   "version": "3.5.2"
  }
 },
 "nbformat": 4,
 "nbformat_minor": 1
}
