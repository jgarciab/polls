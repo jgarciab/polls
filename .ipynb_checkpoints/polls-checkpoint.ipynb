{
 "cells": [
  {
   "cell_type": "code",
   "execution_count": 43,
   "metadata": {
    "collapsed": true
   },
   "outputs": [],
   "source": [
    "import pandas as pd\n",
    "\n",
    "import requests\n",
    "import bs4 as bs\n",
    "from urllib.parse import urljoin\n",
    "import pickle\n",
    "\n",
    "%matplotlib inline"
   ]
  },
  {
   "cell_type": "markdown",
   "metadata": {},
   "source": [
    "# Test (Spain)\n",
    "\n",
    "https://en.wikipedia.org/wiki/Category:Opinion_polling_in_Spain"
   ]
  },
  {
   "cell_type": "code",
   "execution_count": 37,
   "metadata": {
    "collapsed": false
   },
   "outputs": [
    {
     "name": "stdout",
     "output_type": "stream",
     "text": [
      "['https://en.wikipedia.org/wiki/Opinion_polling_for_the_Spanish_general_election,_1982', 'https://en.wikipedia.org/wiki/Opinion_polling_for_the_Spanish_general_election,_1986', 'https://en.wikipedia.org/wiki/Opinion_polling_for_the_Spanish_general_election,_1989', 'https://en.wikipedia.org/wiki/Opinion_polling_for_the_Spanish_general_election,_1993', 'https://en.wikipedia.org/wiki/Opinion_polling_for_the_Spanish_general_election,_1996', 'https://en.wikipedia.org/wiki/Opinion_polling_for_the_Spanish_general_election,_2000', 'https://en.wikipedia.org/wiki/Opinion_polling_for_the_Spanish_general_election,_2004', 'https://en.wikipedia.org/wiki/Opinion_polling_for_the_Spanish_general_election,_2008', 'https://en.wikipedia.org/wiki/Opinion_polling_for_the_Spanish_general_election,_2011', 'https://en.wikipedia.org/wiki/Opinion_polling_for_the_Spanish_general_election,_2015', 'https://en.wikipedia.org/wiki/Opinion_polling_for_the_Spanish_general_election,_2016', 'https://en.wikipedia.org/wiki/Opinion_polling_for_the_next_Spanish_general_election']\n"
     ]
    }
   ],
   "source": [
    "#Get all election links\n",
    "\n",
    "#restrictions in link\n",
    "restrictions = [\"Opinion polling\",\"general election\"]\n",
    "#main url\n",
    "url = \"https://en.wikipedia.org/wiki/Category:Opinion_polling_in_Spain\"\n",
    "\n",
    "#Extract all links\n",
    "links = []\n",
    "r = requests.get(url)\n",
    "if r.ok:\n",
    "    html = bs.BeautifulSoup(r.text,\"html.parser\")\n",
    "    for link in html.find_all(\"a\"):\n",
    "        if link.has_attr('href') and all([restr in link.text for restr in restrictions]): #check restrictions\n",
    "            links.append(urljoin(url,link[\"href\"]))\n",
    "print(links)\n",
    "                    \n",
    "                    "
   ]
  },
  {
   "cell_type": "code",
   "execution_count": 38,
   "metadata": {
    "collapsed": false
   },
   "outputs": [],
   "source": [
    "all_tables = []\n",
    "\n",
    "#position table in website\n",
    "table_position = 0\n",
    "for p_url in links:\n",
    "    #Main ulr\n",
    "    #p_url = \"https://en.wikipedia.org/wiki/Opinion_polling_for_the_Spanish_general_election,_1982\"\n",
    "\n",
    "    #Get columns\n",
    "    r = requests.get(p_url)\n",
    "    if r.ok:\n",
    "        html = bs.BeautifulSoup(r.text,\"html.parser\")\n",
    "        tables = html.find_all(\"table\")[table_position]\n",
    "\n",
    "        rows = tables.find_all(\"th\")\n",
    "        columns = [r.find(\"img\")[\"alt\"] for r in rows if r.find(\"img\") is not None]\n",
    "\n",
    "    #Get tables of polls\n",
    "    polls = pd.read_html(r.text,header=0)[table_position]\n",
    "\n",
    "    #Rename columns\n",
    "    types = [\"firm\",\"date\",\"error\",\"size\",\"lead\"]\n",
    "    new_cols = []\n",
    "    for col in polls.columns:\n",
    "        flag = 0\n",
    "        for t in types:\n",
    "            if t in col:\n",
    "                new_cols.append(t)\n",
    "                flag = 1\n",
    "                break\n",
    "        if flag == 0:\n",
    "            if \"Unnamed\" in col:\n",
    "                new_cols.append(columns.pop(0))\n",
    "            else:\n",
    "                new_cols.append(t)\n",
    "\n",
    "    polls.columns = new_cols\n",
    "    \n",
    "    all_tables.append(polls)"
   ]
  },
  {
   "cell_type": "code",
   "execution_count": 44,
   "metadata": {
    "collapsed": false
   },
   "outputs": [],
   "source": [
    "pickle.dump(all_tables,open(\"all_tables.dump\",\"wb+\"))"
   ]
  },
  {
   "cell_type": "code",
   "execution_count": 36,
   "metadata": {
    "collapsed": false
   },
   "outputs": [
    {
     "data": {
      "text/html": [
       "<div>\n",
       "<style>\n",
       "    .dataframe thead tr:only-child th {\n",
       "        text-align: right;\n",
       "    }\n",
       "\n",
       "    .dataframe thead th {\n",
       "        text-align: left;\n",
       "    }\n",
       "\n",
       "    .dataframe tbody tr th {\n",
       "        vertical-align: top;\n",
       "    }\n",
       "</style>\n",
       "<table border=\"1\" class=\"dataframe\">\n",
       "  <thead>\n",
       "    <tr style=\"text-align: right;\">\n",
       "      <th></th>\n",
       "      <th>firm</th>\n",
       "      <th>date</th>\n",
       "      <th>UCD</th>\n",
       "      <th>PSOE</th>\n",
       "      <th>PCE</th>\n",
       "      <th>AP–PDP</th>\n",
       "      <th>CiU</th>\n",
       "      <th>PNV</th>\n",
       "      <th>CDS</th>\n",
       "      <th>error</th>\n",
       "      <th>size</th>\n",
       "      <th>lead</th>\n",
       "    </tr>\n",
       "  </thead>\n",
       "  <tbody>\n",
       "    <tr>\n",
       "      <th>0</th>\n",
       "      <td>General Election</td>\n",
       "      <td>October 28, 1982</td>\n",
       "      <td>6.8</td>\n",
       "      <td>48.1</td>\n",
       "      <td>4.0</td>\n",
       "      <td>26.4</td>\n",
       "      <td>3.7</td>\n",
       "      <td>1.9</td>\n",
       "      <td>2.9</td>\n",
       "      <td>NaN</td>\n",
       "      <td>NaN</td>\n",
       "      <td>21.7</td>\n",
       "    </tr>\n",
       "    <tr>\n",
       "      <th>1</th>\n",
       "      <td>UCD</td>\n",
       "      <td>October 28, 1982</td>\n",
       "      <td>7.2</td>\n",
       "      <td>45.7</td>\n",
       "      <td>3.8</td>\n",
       "      <td>24.9</td>\n",
       "      <td>4.5</td>\n",
       "      <td>2.1</td>\n",
       "      <td>2.6</td>\n",
       "      <td>NaN</td>\n",
       "      <td>NaN</td>\n",
       "      <td>20.8</td>\n",
       "    </tr>\n",
       "    <tr>\n",
       "      <th>2</th>\n",
       "      <td>PSOE</td>\n",
       "      <td>October 28, 1982</td>\n",
       "      <td>6.6</td>\n",
       "      <td>48.0</td>\n",
       "      <td>4.3</td>\n",
       "      <td>26.0</td>\n",
       "      <td>4.0</td>\n",
       "      <td>2.0</td>\n",
       "      <td>3.1</td>\n",
       "      <td>±0.3 pp</td>\n",
       "      <td>85300.0</td>\n",
       "      <td>22.0</td>\n",
       "    </tr>\n",
       "    <tr>\n",
       "      <th>3</th>\n",
       "      <td>ISIS</td>\n",
       "      <td>October 19, 1982</td>\n",
       "      <td>17.0</td>\n",
       "      <td>45.0</td>\n",
       "      <td>NaN</td>\n",
       "      <td>15</td>\n",
       "      <td>NaN</td>\n",
       "      <td>NaN</td>\n",
       "      <td>NaN</td>\n",
       "      <td>NaN</td>\n",
       "      <td>36792.0</td>\n",
       "      <td>28.0</td>\n",
       "    </tr>\n",
       "    <tr>\n",
       "      <th>4</th>\n",
       "      <td>Sofemasa</td>\n",
       "      <td>October 19, 1982</td>\n",
       "      <td>6.5</td>\n",
       "      <td>48.6</td>\n",
       "      <td>5.9</td>\n",
       "      <td>24.0</td>\n",
       "      <td>2.5</td>\n",
       "      <td>1.7</td>\n",
       "      <td>4.0</td>\n",
       "      <td>±0.7 pp</td>\n",
       "      <td>18255.0</td>\n",
       "      <td>24.6</td>\n",
       "    </tr>\n",
       "  </tbody>\n",
       "</table>\n",
       "</div>"
      ],
      "text/plain": [
       "               firm              date   UCD  PSOE  PCE AP–PDP  CiU  PNV  CDS  \\\n",
       "0  General Election  October 28, 1982   6.8  48.1  4.0   26.4  3.7  1.9  2.9   \n",
       "1               UCD  October 28, 1982   7.2  45.7  3.8   24.9  4.5  2.1  2.6   \n",
       "2              PSOE  October 28, 1982   6.6  48.0  4.3   26.0  4.0  2.0  3.1   \n",
       "3              ISIS  October 19, 1982  17.0  45.0  NaN     15  NaN  NaN  NaN   \n",
       "4          Sofemasa  October 19, 1982   6.5  48.6  5.9   24.0  2.5  1.7  4.0   \n",
       "\n",
       "     error     size  lead  \n",
       "0      NaN      NaN  21.7  \n",
       "1      NaN      NaN  20.8  \n",
       "2  ±0.3 pp  85300.0  22.0  \n",
       "3      NaN  36792.0  28.0  \n",
       "4  ±0.7 pp  18255.0  24.6  "
      ]
     },
     "execution_count": 36,
     "metadata": {},
     "output_type": "execute_result"
    }
   ],
   "source": [
    "polls.head()"
   ]
  },
  {
   "cell_type": "markdown",
   "metadata": {},
   "source": [
    "# Systematical"
   ]
  },
  {
   "cell_type": "code",
   "execution_count": null,
   "metadata": {
    "collapsed": true
   },
   "outputs": [],
   "source": [
    "#Opinion polling by country\n",
    "https://en.wikipedia.org/wiki/Category:Opinion_polling_by_country"
   ]
  },
  {
   "cell_type": "code",
   "execution_count": null,
   "metadata": {
    "collapsed": true
   },
   "outputs": [],
   "source": []
  },
  {
   "cell_type": "code",
   "execution_count": null,
   "metadata": {
    "collapsed": true
   },
   "outputs": [],
   "source": []
  },
  {
   "cell_type": "code",
   "execution_count": null,
   "metadata": {
    "collapsed": true
   },
   "outputs": [],
   "source": []
  },
  {
   "cell_type": "code",
   "execution_count": null,
   "metadata": {
    "collapsed": true
   },
   "outputs": [],
   "source": []
  }
 ],
 "metadata": {
  "anaconda-cloud": {},
  "kernelspec": {
   "display_name": "Python [default]",
   "language": "python",
   "name": "python3"
  },
  "language_info": {
   "codemirror_mode": {
    "name": "ipython",
    "version": 3
   },
   "file_extension": ".py",
   "mimetype": "text/x-python",
   "name": "python",
   "nbconvert_exporter": "python",
   "pygments_lexer": "ipython3",
   "version": "3.5.2"
  }
 },
 "nbformat": 4,
 "nbformat_minor": 1
}
