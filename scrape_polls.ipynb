{
 "cells": [
  {
   "cell_type": "code",
   "execution_count": 116,
   "metadata": {
    "collapsed": true
   },
   "outputs": [],
   "source": [
    "import pandas as pd\n",
    "import numpy as np\n",
    "\n",
    "import requests\n",
    "import bs4 as bs\n",
    "from urllib.parse import urljoin\n",
    "import pickle\n",
    "\n",
    "import os\n",
    "\n",
    "%matplotlib inline"
   ]
  },
  {
   "cell_type": "markdown",
   "metadata": {},
   "source": [
    "# Test (Spain)\n",
    "\n",
    "https://en.wikipedia.org/wiki/Category:Opinion_polling_in_Spain"
   ]
  },
  {
   "cell_type": "code",
   "execution_count": 37,
   "metadata": {
    "collapsed": false
   },
   "outputs": [
    {
     "name": "stdout",
     "output_type": "stream",
     "text": [
      "['https://en.wikipedia.org/wiki/Opinion_polling_for_the_Spanish_general_election,_1982', 'https://en.wikipedia.org/wiki/Opinion_polling_for_the_Spanish_general_election,_1986', 'https://en.wikipedia.org/wiki/Opinion_polling_for_the_Spanish_general_election,_1989', 'https://en.wikipedia.org/wiki/Opinion_polling_for_the_Spanish_general_election,_1993', 'https://en.wikipedia.org/wiki/Opinion_polling_for_the_Spanish_general_election,_1996', 'https://en.wikipedia.org/wiki/Opinion_polling_for_the_Spanish_general_election,_2000', 'https://en.wikipedia.org/wiki/Opinion_polling_for_the_Spanish_general_election,_2004', 'https://en.wikipedia.org/wiki/Opinion_polling_for_the_Spanish_general_election,_2008', 'https://en.wikipedia.org/wiki/Opinion_polling_for_the_Spanish_general_election,_2011', 'https://en.wikipedia.org/wiki/Opinion_polling_for_the_Spanish_general_election,_2015', 'https://en.wikipedia.org/wiki/Opinion_polling_for_the_Spanish_general_election,_2016', 'https://en.wikipedia.org/wiki/Opinion_polling_for_the_next_Spanish_general_election']\n"
     ]
    }
   ],
   "source": [
    "#Get all election links\n",
    "\n",
    "#restrictions in link\n",
    "restrictions = [\"Opinion polling\",\"general election\"]\n",
    "#main url\n",
    "url = \"https://en.wikipedia.org/wiki/Category:Opinion_polling_in_Spain\"\n",
    "\n",
    "#Extract all links\n",
    "links = []\n",
    "r = requests.get(url)\n",
    "if r.ok:\n",
    "    html = bs.BeautifulSoup(r.text,\"html.parser\")\n",
    "    for link in html.find_all(\"a\"):\n",
    "        if link.has_attr('href') and all([restr in link.text for restr in restrictions]): #check restrictions\n",
    "            links.append(urljoin(url,link[\"href\"]))\n",
    "print(links)\n",
    "                    \n",
    "                    "
   ]
  },
  {
   "cell_type": "code",
   "execution_count": 100,
   "metadata": {
    "collapsed": false
   },
   "outputs": [],
   "source": [
    "def check_not_number(x):\n",
    "    try:\n",
    "        float(x.split(\"/\")[0])\n",
    "        return False\n",
    "    except:\n",
    "        return True"
   ]
  },
  {
   "cell_type": "code",
   "execution_count": 149,
   "metadata": {
    "collapsed": false
   },
   "outputs": [
    {
     "name": "stdout",
     "output_type": "stream",
     "text": [
      "mkdir: cannot create directory ‘data/individual_tables/Spain’: File exists\n",
      "https://en.wikipedia.org/wiki/Opinion_polling_for_the_Spanish_general_election,_1982\n",
      "Index(['firm', 'date', 'UCD', 'PSOE', 'PCE', 'AP–PDP', 'CiU', 'PNV', 'CDS',\n",
      "       'error', 'size', 'Lead'],\n",
      "      dtype='object')\n",
      "https://en.wikipedia.org/wiki/Opinion_polling_for_the_Spanish_general_election,_1986\n",
      "Index(['firm', 'date', 'PSOE', 'AP-PDP-PL', 'IU', 'CiU', 'CDS', 'PNV', 'PRD',\n",
      "       'error', 'size', 'Lead'],\n",
      "      dtype='object')\n",
      "https://en.wikipedia.org/wiki/Opinion_polling_for_the_Spanish_general_election,_1989\n",
      "Index(['firm', 'date', 'size', 'Turnout', 'PSOE', 'AP', 'CDS', 'CiU', 'IU',\n",
      "       'PNV', 'HB', 'EE', 'PA', 'ERC', 'CG', '/wiki/Galician_Coalition', 'AIC',\n",
      "       'PAR', 'PSG–EG', 'LV', '/wiki/Canarian_Independent_Groups', 'UV',\n",
      "       '/wiki/Galician_Socialist_Party%E2%80%93Galician_Left', 'ARM', 'Lead'],\n",
      "      dtype='object')\n",
      "https://en.wikipedia.org/wiki/Opinion_polling_for_the_Spanish_general_election,_1993\n",
      "Index(['firm', 'date', 'size', 'Turnout', 'PSOE', 'PP', 'IU', 'CDS', 'CiU',\n",
      "       'PNV', 'HB', 'PA', 'LV', '/wiki/Confederation_of_the_Greens', 'UV',\n",
      "       'EA', 'EE', 'ERC', 'PAR', 'BNG', 'CC',\n",
      "       '/wiki/Galician_Nationalist_Bloc', 'PAP', 'Lead'],\n",
      "      dtype='object')\n",
      "https://en.wikipedia.org/wiki/Opinion_polling_for_the_Spanish_general_election,_1996\n",
      "Index(['firm', 'date', 'size', 'Turnout', 'PSOE', 'PP', 'IU', 'CiU', 'CDS',\n",
      "       'PNV', 'CC', 'HB', 'ERC', 'PAR', 'EA', 'BNG',\n",
      "       '/wiki/Galician_Nationalist_Bloc', 'UV', 'Lead'],\n",
      "      dtype='object')\n",
      "https://en.wikipedia.org/wiki/Opinion_polling_for_the_Spanish_general_election,_2000\n",
      "Index(['firm', 'date', 'size', 'Turnout', 'PP', 'PSOE', 'IU', 'CiU', 'PNV',\n",
      "       'CC', 'BNG', '/wiki/Galician_Nationalist_Bloc', 'HB', 'ERC', 'PA', 'EA',\n",
      "       'UV', 'NI/IC', 'Lead'],\n",
      "      dtype='object')\n",
      "https://en.wikipedia.org/wiki/Opinion_polling_for_the_Spanish_general_election,_2004\n",
      "Index(['firm', 'date', 'size', 'Turnout', 'PP', 'PSOE', 'IU', 'CiU', 'PNV',\n",
      "       'BNG', '/wiki/Galician_Nationalist_Bloc', 'CC', 'PA', 'ERC', 'ICV',\n",
      "       'EA', 'PIB', 'CHA', '/wiki/Progressives_for_the_Balearic_Islands',\n",
      "       'Lead'],\n",
      "      dtype='object')\n",
      "https://en.wikipedia.org/wiki/Opinion_polling_for_the_Spanish_general_election,_2008\n",
      "Index(['firm', 'date', 'size', 'Turnout', 'PSOE', 'PP', 'IU', 'CiU', 'ERC',\n",
      "       'PNV', 'CC', 'BNG', '/wiki/Galician_Nationalist_Bloc', 'CHA', 'EA',\n",
      "       'UIB', 'NaBai', '/wiki/Unity_for_the_Isles', 'Aralar', 'C's', 'Lead'],\n",
      "      dtype='object')\n",
      "https://en.wikipedia.org/wiki/Opinion_polling_for_the_Spanish_general_election,_2011\n",
      "Index(['firm', 'date', 'size', 'Turnout', 'PSOE', 'PP', 'IU–LV', 'CiU', 'PNV',\n",
      "       'UPyD', 'ERC', 'BNG', '/wiki/Galician_Nationalist_Bloc', 'CC', 'PA',\n",
      "       'GBai', 'PSM', 'Compromís', '/wiki/PSM%E2%80%93Nationalist_Agreement',\n",
      "       'UPN', 'Amaiur logo.svg', 'FAC', 'PRC', 'Lead'],\n",
      "      dtype='object')\n",
      "https://en.wikipedia.org/wiki/Opinion_polling_for_the_Spanish_general_election,_2015\n",
      "Index(['firm', 'date', 'size', 'Turnout', 'PP', 'PSOE', 'IU–UPeC', 'Podemos',\n",
      "       'UPyD', 'ERC–CatSí', 'CiU', 'C's', 'Vox', 'Amaiur logo.svg', 'PNV',\n",
      "       'eQuo', 'Compromís', 'BNG', '/wiki/Galician_Nationalist_Bloc', 'CC',\n",
      "       'PA', 'FAC', 'GBai', 'PRC', 'Més', 'CUP', 'NCa', 'CDC', 'Lead'],\n",
      "      dtype='object')\n",
      "https://en.wikipedia.org/wiki/Opinion_polling_for_the_Spanish_general_election,_2016\n",
      "Index(['firm', 'date', 'size', 'Turnout', 'PP', 'PSOE', 'Podemos', 'C's',\n",
      "       'IU–UPeC', 'ERC–CatSí', 'DiL', 'PNV', 'PACMA', 'EHB.png', 'CC', 'BNG',\n",
      "       '/wiki/Galician_Nationalist_Bloc', 'Lead'],\n",
      "      dtype='object')\n",
      "https://en.wikipedia.org/wiki/Opinion_polling_for_the_next_Spanish_general_election\n",
      "Index(['firm', 'date', 'size', 'Turnout', 'PP', 'PSOE',\n",
      "       'Isotipo Unidos Podemos.svg', 'Cs', 'ERC', 'PDeCAT', 'PNV', 'PACMA',\n",
      "       'EHB.png', 'CC', 'Vox', 'BNG–Nós', 'Lead'],\n",
      "      dtype='object')\n"
     ]
    }
   ],
   "source": [
    "all_tables = []\n",
    "country = \"Spain\"\n",
    "!mkdir data/individual_tables/$country\n",
    "\n",
    "#position table in website\n",
    "table_position = 0\n",
    "for p_url in links:\n",
    "    #Main ulr\n",
    "    #p_url = \"https://en.wikipedia.org/wiki/Opinion_polling_for_the_Spanish_general_election,_1982\"\n",
    "\n",
    "    #Get columns\n",
    "    r = requests.get(p_url)\n",
    "    html = bs.BeautifulSoup(r.text,\"html.parser\")\n",
    "    tables = html.find_all(\"table\")[table_position]\n",
    "\n",
    "    rows = tables.find_all(\"th\")\n",
    "    columns = [r.find(\"img\")[\"alt\"] if (r.find(\"img\") is not None) else (r.find(\"a\")[\"href\"] if (r.find(\"a\") is not None) else None) for r in rows ]\n",
    "    columns = [_ for _ in columns if _ is not None]\n",
    "    \n",
    "    #Get tables of polls\n",
    "    polls = pd.read_html(r.text,header=0)[table_position]\n",
    "\n",
    "    #Rename columns\n",
    "    types = [\"firm\",\"date\",\"error\",\"size\",\"lead\",\"turnout\"]\n",
    "    new_cols = []\n",
    "    for col in polls.columns:\n",
    "        flag = 0\n",
    "        for t in types:\n",
    "            if t.lower() in col:\n",
    "                new_cols.append(t)\n",
    "                flag = 1\n",
    "                break\n",
    "        if flag == 0:\n",
    "            if \"Unnamed\" in col:\n",
    "                new_cols.append(columns.pop(0))\n",
    "            else:\n",
    "                new_cols.append(col)\n",
    "    print(p_url)\n",
    "    polls.columns = new_cols\n",
    "    print(polls.columns)\n",
    "    polls[\"date\"] = polls[\"date\"].str.split(\"–\").str[-1]\n",
    "    polls = polls.loc[polls[\"date\"].apply(check_not_number)]\n",
    "    \n",
    "    polls.to_csv(\"data/individual_tables/{}/{}.csv\".format(country,p_url.split(\"/\")[-1]))\n",
    "    \n",
    "    #all_tables.append(polls)"
   ]
  },
  {
   "cell_type": "code",
   "execution_count": 150,
   "metadata": {
    "collapsed": false
   },
   "outputs": [
    {
     "name": "stdout",
     "output_type": "stream",
     "text": [
      "datetime64[ns]\n",
      "datetime64[ns]\n",
      "datetime64[ns]\n",
      "datetime64[ns]\n",
      "datetime64[ns]\n",
      "datetime64[ns]\n",
      "datetime64[ns]\n",
      "datetime64[ns]\n",
      "datetime64[ns]\n",
      "datetime64[ns]\n",
      "datetime64[ns]\n",
      "datetime64[ns]\n"
     ]
    }
   ],
   "source": [
    "country = \"Spain\"\n",
    "\n",
    "#combine tables\n",
    "all_tables = []\n",
    "for table in os.listdir(\"./data/individual_tables/{}\".format(country)):\n",
    "    all_tables.append(pd.read_csv(\"data/individual_tables/{}/{}\".format(country,table),parse_dates=[\"date\"],na_values=[\"–\",\"?\"]))\n",
    "    print(all_tables[-1][\"date\"].dtype)"
   ]
  },
  {
   "cell_type": "code",
   "execution_count": 151,
   "metadata": {
    "collapsed": false
   },
   "outputs": [],
   "source": [
    "all_tables = pd.concat(all_tables)\n",
    "all_tables.to_csv(\"./data/all_tables_Spain.csv\",index=None)"
   ]
  },
  {
   "cell_type": "code",
   "execution_count": 155,
   "metadata": {
    "collapsed": true
   },
   "outputs": [],
   "source": [
    "def clean_data(x):\n",
    "    if isinstance(x,float):\n",
    "        return x\n",
    "    if \"w.\" in x:\n",
    "        return np.NaN\n",
    "    number = x.split(\"/\")[0].split(\"?\")[0].split(\"–\")[0].split(\"[\")[0].strip()\n",
    "    if len(number) == 0:\n",
    "        return np.NaN\n",
    "    if \"<\" in number:\n",
    "        return np.NaN\n",
    "    try:\n",
    "        return float(number)\n",
    "    except:\n",
    "        print(number)\n",
    "        print(len(number))\n",
    "        "
   ]
  },
  {
   "cell_type": "code",
   "execution_count": 164,
   "metadata": {
    "collapsed": false
   },
   "outputs": [],
   "source": [
    "#clean data\n",
    "spain = pd.read_csv(\"data/all_tables_Spain.csv\",parse_dates=[\"date\"])\n",
    "for col in spain.columns:\n",
    "    if col.lower() in types:\n",
    "        continue\n",
    "    if \"Unnamed\" in col:\n",
    "        continue\n",
    "    spain[col] = spain[col].apply(clean_data).astype(float)\n",
    "    \n",
    "#Combining parties\n",
    "spain[\"PSOE\"] = spain[[\"PSOE\",'/wiki/Galician_Socialist_Party%E2%80%93Galician_Left','/wiki/PSM%E2%80%93Nationalist_Agreement',\"PSG–EG\",\"PSM\"]].sum(1)\n",
    "spain[\"BNG\"] = spain[[\"BNG\",\"BNG–Nós\",\"/wiki/Galician_Nationalist_Bloc\"]].sum(1)\n",
    "spain[\"IU\"] = spain[[\"IU\",\"IU–LV\",\"IU–UPeC\"]].sum(1)\n",
    "spain[\"PP\"] = spain[[\"PP\",\"AP\",\"AP-PDP-PL\",\"AP–PDP\"]].sum(1)\n",
    "spain[\"Podemos\"] = spain[[\"Podemos\",\"Isotipo Unidos Podemos.svg\"]].sum(1)\n",
    "\n",
    "parties = set(list(spain.columns))\n",
    "\n",
    "#Basic cleaning and augmentating\n",
    "spain[\"firm\"] = spain[\"firm\"].str.split(\"[\").str[0]\n",
    "spain = spain.loc[~spain[\"firm\"].apply(lambda x: \"election\" in x)] #results of the elections, not polls\n",
    "spain = spain.loc[~spain[\"firm\"].apply(lambda x: \"^\" in x)] #weird polls\n",
    "spain[\"Party_poll\"] = spain[\"firm\"].apply(lambda x: any([p in x for p in parties]))\n",
    "spain[\"Newspaper_poll\"] = spain[\"firm\"].apply(lambda x: x.split(\"/\")[-1] if len(x.split(\"/\"))>1 else np.NaN)\n",
    "spain[\"Polling_firm\"] = spain[\"firm\"].str.split(\"/\").str[0]\n",
    "spain[\"Number_polling_firms\"] = spain[\"firm\"].str.count('–')+1\n",
    "\n",
    "#spain = spain.dropna(thresh=len(spain)/5,axis=1)\n",
    "spain.to_csv(\"./data/all_tables_Spain_cleaned.csv\")"
   ]
  },
  {
   "cell_type": "code",
   "execution_count": 165,
   "metadata": {
    "collapsed": false
   },
   "outputs": [
    {
     "data": {
      "text/html": [
       "<div>\n",
       "<style>\n",
       "    .dataframe thead tr:only-child th {\n",
       "        text-align: right;\n",
       "    }\n",
       "\n",
       "    .dataframe thead th {\n",
       "        text-align: left;\n",
       "    }\n",
       "\n",
       "    .dataframe tbody tr th {\n",
       "        vertical-align: top;\n",
       "    }\n",
       "</style>\n",
       "<table border=\"1\" class=\"dataframe\">\n",
       "  <thead>\n",
       "    <tr style=\"text-align: right;\">\n",
       "      <th></th>\n",
       "      <th>BNG</th>\n",
       "      <th>CiU</th>\n",
       "      <th>ERC</th>\n",
       "      <th>IU</th>\n",
       "      <th>Lead</th>\n",
       "      <th>PNV</th>\n",
       "      <th>PP</th>\n",
       "      <th>PSOE</th>\n",
       "      <th>Podemos</th>\n",
       "      <th>Turnout</th>\n",
       "      <th>UPyD</th>\n",
       "      <th>Unnamed: 0</th>\n",
       "      <th>date</th>\n",
       "      <th>firm</th>\n",
       "      <th>size</th>\n",
       "      <th>Party_poll</th>\n",
       "      <th>Newspaper_poll</th>\n",
       "      <th>Polling_firm</th>\n",
       "      <th>Number_polling_firms</th>\n",
       "    </tr>\n",
       "  </thead>\n",
       "  <tbody>\n",
       "    <tr>\n",
       "      <th>1</th>\n",
       "      <td>0.0</td>\n",
       "      <td>5.218</td>\n",
       "      <td>NaN</td>\n",
       "      <td>9.018</td>\n",
       "      <td>16.8</td>\n",
       "      <td>1.35</td>\n",
       "      <td>0.0</td>\n",
       "      <td>64.8276</td>\n",
       "      <td>0.0</td>\n",
       "      <td>68</td>\n",
       "      <td>NaN</td>\n",
       "      <td>1</td>\n",
       "      <td>1989-10-29</td>\n",
       "      <td>PSOE</td>\n",
       "      <td>NaN</td>\n",
       "      <td>True</td>\n",
       "      <td>NaN</td>\n",
       "      <td>PSOE</td>\n",
       "      <td>1</td>\n",
       "    </tr>\n",
       "    <tr>\n",
       "      <th>2</th>\n",
       "      <td>0.0</td>\n",
       "      <td>NaN</td>\n",
       "      <td>NaN</td>\n",
       "      <td>0.000</td>\n",
       "      <td>NaN</td>\n",
       "      <td>NaN</td>\n",
       "      <td>0.0</td>\n",
       "      <td>0.0000</td>\n",
       "      <td>0.0</td>\n",
       "      <td>NaN</td>\n",
       "      <td>NaN</td>\n",
       "      <td>2</td>\n",
       "      <td>1989-10-29</td>\n",
       "      <td>Metis/RTVE</td>\n",
       "      <td>40000.0</td>\n",
       "      <td>False</td>\n",
       "      <td>RTVE</td>\n",
       "      <td>Metis</td>\n",
       "      <td>1</td>\n",
       "    </tr>\n",
       "    <tr>\n",
       "      <th>3</th>\n",
       "      <td>0.0</td>\n",
       "      <td>NaN</td>\n",
       "      <td>NaN</td>\n",
       "      <td>0.000</td>\n",
       "      <td>NaN</td>\n",
       "      <td>NaN</td>\n",
       "      <td>0.0</td>\n",
       "      <td>0.0000</td>\n",
       "      <td>0.0</td>\n",
       "      <td>NaN</td>\n",
       "      <td>NaN</td>\n",
       "      <td>3</td>\n",
       "      <td>1989-10-29</td>\n",
       "      <td>Opina</td>\n",
       "      <td>NaN</td>\n",
       "      <td>False</td>\n",
       "      <td>NaN</td>\n",
       "      <td>Opina</td>\n",
       "      <td>1</td>\n",
       "    </tr>\n",
       "    <tr>\n",
       "      <th>4</th>\n",
       "      <td>0.0</td>\n",
       "      <td>NaN</td>\n",
       "      <td>NaN</td>\n",
       "      <td>0.000</td>\n",
       "      <td>NaN</td>\n",
       "      <td>NaN</td>\n",
       "      <td>0.0</td>\n",
       "      <td>40.1176</td>\n",
       "      <td>0.0</td>\n",
       "      <td>NaN</td>\n",
       "      <td>NaN</td>\n",
       "      <td>4</td>\n",
       "      <td>1989-10-29</td>\n",
       "      <td>Demoscopia/Cadena SER</td>\n",
       "      <td>91451.0</td>\n",
       "      <td>False</td>\n",
       "      <td>Cadena SER</td>\n",
       "      <td>Demoscopia</td>\n",
       "      <td>1</td>\n",
       "    </tr>\n",
       "    <tr>\n",
       "      <th>5</th>\n",
       "      <td>0.0</td>\n",
       "      <td>NaN</td>\n",
       "      <td>NaN</td>\n",
       "      <td>0.000</td>\n",
       "      <td>NaN</td>\n",
       "      <td>NaN</td>\n",
       "      <td>0.0</td>\n",
       "      <td>0.0000</td>\n",
       "      <td>0.0</td>\n",
       "      <td>NaN</td>\n",
       "      <td>NaN</td>\n",
       "      <td>5</td>\n",
       "      <td>1989-10-29</td>\n",
       "      <td>Sigma Dos/COPE</td>\n",
       "      <td>NaN</td>\n",
       "      <td>False</td>\n",
       "      <td>COPE</td>\n",
       "      <td>Sigma Dos</td>\n",
       "      <td>1</td>\n",
       "    </tr>\n",
       "  </tbody>\n",
       "</table>\n",
       "</div>"
      ],
      "text/plain": [
       "   BNG    CiU  ERC     IU  Lead   PNV   PP     PSOE  Podemos Turnout  UPyD  \\\n",
       "1  0.0  5.218  NaN  9.018  16.8  1.35  0.0  64.8276      0.0      68   NaN   \n",
       "2  0.0    NaN  NaN  0.000   NaN   NaN  0.0   0.0000      0.0     NaN   NaN   \n",
       "3  0.0    NaN  NaN  0.000   NaN   NaN  0.0   0.0000      0.0     NaN   NaN   \n",
       "4  0.0    NaN  NaN  0.000   NaN   NaN  0.0  40.1176      0.0     NaN   NaN   \n",
       "5  0.0    NaN  NaN  0.000   NaN   NaN  0.0   0.0000      0.0     NaN   NaN   \n",
       "\n",
       "   Unnamed: 0       date                   firm     size  Party_poll  \\\n",
       "1           1 1989-10-29                   PSOE      NaN        True   \n",
       "2           2 1989-10-29             Metis/RTVE  40000.0       False   \n",
       "3           3 1989-10-29                  Opina      NaN       False   \n",
       "4           4 1989-10-29  Demoscopia/Cadena SER  91451.0       False   \n",
       "5           5 1989-10-29         Sigma Dos/COPE      NaN       False   \n",
       "\n",
       "  Newspaper_poll Polling_firm  Number_polling_firms  \n",
       "1            NaN         PSOE                     1  \n",
       "2           RTVE        Metis                     1  \n",
       "3            NaN        Opina                     1  \n",
       "4     Cadena SER   Demoscopia                     1  \n",
       "5           COPE    Sigma Dos                     1  "
      ]
     },
     "execution_count": 165,
     "metadata": {},
     "output_type": "execute_result"
    }
   ],
   "source": [
    "spain = spain.dropna(thresh=len(spain)/5,axis=1)\n",
    "spain.head()"
   ]
  },
  {
   "cell_type": "markdown",
   "metadata": {},
   "source": [
    "# Systematical"
   ]
  },
  {
   "cell_type": "code",
   "execution_count": null,
   "metadata": {
    "collapsed": true
   },
   "outputs": [],
   "source": [
    "#Opinion polling by country\n",
    "https://en.wikipedia.org/wiki/Category:Opinion_polling_by_country"
   ]
  },
  {
   "cell_type": "code",
   "execution_count": null,
   "metadata": {
    "collapsed": true
   },
   "outputs": [],
   "source": []
  },
  {
   "cell_type": "code",
   "execution_count": null,
   "metadata": {
    "collapsed": true
   },
   "outputs": [],
   "source": []
  },
  {
   "cell_type": "code",
   "execution_count": null,
   "metadata": {
    "collapsed": true
   },
   "outputs": [],
   "source": []
  },
  {
   "cell_type": "code",
   "execution_count": null,
   "metadata": {
    "collapsed": true
   },
   "outputs": [],
   "source": []
  }
 ],
 "metadata": {
  "anaconda-cloud": {},
  "kernelspec": {
   "display_name": "Python [default]",
   "language": "python",
   "name": "python3"
  },
  "language_info": {
   "codemirror_mode": {
    "name": "ipython",
    "version": 3
   },
   "file_extension": ".py",
   "mimetype": "text/x-python",
   "name": "python",
   "nbconvert_exporter": "python",
   "pygments_lexer": "ipython3",
   "version": "3.5.2"
  }
 },
 "nbformat": 4,
 "nbformat_minor": 1
}
