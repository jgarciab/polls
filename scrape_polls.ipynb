{
 "cells": [
  {
   "cell_type": "code",
   "execution_count": 207,
   "metadata": {
    "collapsed": true
   },
   "outputs": [],
   "source": [
    "import pandas as pd\n",
    "import numpy as np\n",
    "\n",
    "import requests\n",
    "import bs4 as bs\n",
    "from urllib.parse import urljoin\n",
    "import pickle\n",
    "\n",
    "import os\n",
    "\n",
    "%matplotlib inline"
   ]
  },
  {
   "cell_type": "markdown",
   "metadata": {},
   "source": [
    "# Test (Spain)\n",
    "\n",
    "https://en.wikipedia.org/wiki/Category:Opinion_polling_in_Spain"
   ]
  },
  {
   "cell_type": "code",
   "execution_count": 208,
   "metadata": {
    "collapsed": false
   },
   "outputs": [
    {
     "name": "stdout",
     "output_type": "stream",
     "text": [
      "['https://en.wikipedia.org/wiki/Opinion_polling_for_the_Spanish_general_election,_1982', 'https://en.wikipedia.org/wiki/Opinion_polling_for_the_Spanish_general_election,_1986', 'https://en.wikipedia.org/wiki/Opinion_polling_for_the_Spanish_general_election,_1989', 'https://en.wikipedia.org/wiki/Opinion_polling_for_the_Spanish_general_election,_1993', 'https://en.wikipedia.org/wiki/Opinion_polling_for_the_Spanish_general_election,_1996', 'https://en.wikipedia.org/wiki/Opinion_polling_for_the_Spanish_general_election,_2000', 'https://en.wikipedia.org/wiki/Opinion_polling_for_the_Spanish_general_election,_2004', 'https://en.wikipedia.org/wiki/Opinion_polling_for_the_Spanish_general_election,_2008', 'https://en.wikipedia.org/wiki/Opinion_polling_for_the_Spanish_general_election,_2011', 'https://en.wikipedia.org/wiki/Opinion_polling_for_the_Spanish_general_election,_2015', 'https://en.wikipedia.org/wiki/Opinion_polling_for_the_Spanish_general_election,_2016', 'https://en.wikipedia.org/wiki/Opinion_polling_for_the_next_Spanish_general_election']\n"
     ]
    }
   ],
   "source": [
    "#Get all election links\n",
    "\n",
    "#restrictions in link\n",
    "restrictions = [\"Opinion polling\",\"general election\"]\n",
    "#main url\n",
    "url = \"https://en.wikipedia.org/wiki/Category:Opinion_polling_in_Spain\"\n",
    "\n",
    "#Extract all links\n",
    "links = []\n",
    "r = requests.get(url)\n",
    "if r.ok:\n",
    "    html = bs.BeautifulSoup(r.text,\"html.parser\")\n",
    "    for link in html.find_all(\"a\"):\n",
    "        if link.has_attr('href') and all([restr in link.text for restr in restrictions]): #check restrictions\n",
    "            links.append(urljoin(url,link[\"href\"]))\n",
    "print(links)\n",
    "                    \n",
    "                    "
   ]
  },
  {
   "cell_type": "code",
   "execution_count": 209,
   "metadata": {
    "collapsed": false
   },
   "outputs": [],
   "source": [
    "def check_not_number(x):\n",
    "    try:\n",
    "        float(x.split(\"/\")[0])\n",
    "        return False\n",
    "    except:\n",
    "        return True"
   ]
  },
  {
   "cell_type": "code",
   "execution_count": 220,
   "metadata": {
    "collapsed": false
   },
   "outputs": [
    {
     "name": "stdout",
     "output_type": "stream",
     "text": [
      "mkdir: cannot create directory ‘data/individual_tables/Spain’: File exists\n",
      "https://en.wikipedia.org/wiki/Opinion_polling_for_the_Spanish_general_election,_1982\n",
      "['UCD', 'PSOE', 'PCE', 'AP–PDP', 'CiU', 'PNV', 'CDS']\n",
      "['firm', 'date', 'UCD', 'PSOE', 'PCE', 'AP–PDP', 'CiU', 'PNV', 'CDS', 'error', 'size', 'lead']\n",
      "https://en.wikipedia.org/wiki/Opinion_polling_for_the_Spanish_general_election,_1986\n",
      "['PSOE', 'AP-PDP-PL', 'IU', 'CiU', 'CDS', 'PNV', 'PRD']\n",
      "['firm', 'date', 'PSOE', 'AP-PDP-PL', 'IU', 'CiU', 'CDS', 'PNV', 'PRD', 'error', 'size', 'lead']\n",
      "https://en.wikipedia.org/wiki/Opinion_polling_for_the_Spanish_general_election,_1989\n",
      "['PSOE', 'AP', 'CDS', 'CiU', 'IU', 'PNV', 'HB', 'EE', 'PA', 'ERC', '/wiki/Galician_Coalition', 'PAR', '/wiki/Canarian_Independent_Groups', 'UV', '/wiki/Galician_Socialist_Party%E2%80%93Galician_Left', '/wiki/Confederation_of_the_Greens', 'PDP', 'EA', 'PP', '/wiki/Ruiz-Mateos_Group']\n",
      "['firm', 'date', 'size', 'turnout', 'PSOE', 'AP', 'CDS', 'CiU', 'IU', 'PNV', 'HB', 'EE', 'PA', 'ERC', '/wiki/Galician_Coalition', 'PAR', '/wiki/Canarian_Independent_Groups', 'UV', '/wiki/Galician_Socialist_Party%E2%80%93Galician_Left', '/wiki/Confederation_of_the_Greens', 'PDP', 'EA', 'PP', '/wiki/Ruiz-Mateos_Group', 'lead']\n",
      "https://en.wikipedia.org/wiki/Opinion_polling_for_the_Spanish_general_election,_1993\n",
      "['PSOE', 'PP', 'IU', 'CDS', 'CiU', 'PNV', 'HB', 'PA', '/wiki/Confederation_of_the_Greens', 'UV', 'EA', 'EE', 'ERC', 'PAR', 'CC', '/wiki/Galician_Nationalist_Bloc', 'UA', 'UPCA', '/wiki/Andalusian_Progress_Party']\n",
      "['firm', 'date', 'size', 'turnout', 'PSOE', 'PP', 'IU', 'CDS', 'CiU', 'PNV', 'HB', 'PA', '/wiki/Confederation_of_the_Greens', 'UV', 'EA', 'EE', 'ERC', 'PAR', 'CC', '/wiki/Galician_Nationalist_Bloc', 'UA', 'UPCA', '/wiki/Andalusian_Progress_Party', 'lead']\n",
      "https://en.wikipedia.org/wiki/Opinion_polling_for_the_Spanish_general_election,_1996\n",
      "['PSOE', 'PP', 'IU', 'CiU', 'CDS', 'PNV', 'CC', 'HB', 'ERC', 'PAR', 'EA', '/wiki/Galician_Nationalist_Bloc', 'UV', 'PA']\n",
      "['firm', 'date', 'size', 'turnout', 'PSOE', 'PP', 'IU', 'CiU', 'CDS', 'PNV', 'CC', 'HB', 'ERC', 'PAR', 'EA', '/wiki/Galician_Nationalist_Bloc', 'UV', 'PA', 'lead']\n",
      "https://en.wikipedia.org/wiki/Opinion_polling_for_the_Spanish_general_election,_2000\n",
      "['PP', 'PSOE', 'IU', 'CiU', 'PNV', 'CC', '/wiki/Galician_Nationalist_Bloc', 'HB', 'ERC', 'PA', 'EA', 'UV', 'CHA', '/wiki/Democratic_Party_of_the_New_Left']\n",
      "['firm', 'date', 'size', 'turnout', 'PP', 'PSOE', 'IU', 'CiU', 'PNV', 'CC', '/wiki/Galician_Nationalist_Bloc', 'HB', 'ERC', 'PA', 'EA', 'UV', 'CHA', '/wiki/Democratic_Party_of_the_New_Left', 'lead']\n",
      "https://en.wikipedia.org/wiki/Opinion_polling_for_the_Spanish_general_election,_2004\n",
      "['PP', 'PSOE', 'IU', 'CiU', 'PNV', '/wiki/Galician_Nationalist_Bloc', 'CC', 'PA', 'ERC', 'ICV', 'EA', 'CHA', '/wiki/Progressives_for_the_Balearic_Islands', 'Aralar', 'NaBai']\n",
      "['firm', 'date', 'size', 'turnout', 'PP', 'PSOE', 'IU', 'CiU', 'PNV', '/wiki/Galician_Nationalist_Bloc', 'CC', 'PA', 'ERC', 'ICV', 'EA', 'CHA', '/wiki/Progressives_for_the_Balearic_Islands', 'Aralar', 'NaBai', 'lead']\n",
      "https://en.wikipedia.org/wiki/Opinion_polling_for_the_Spanish_general_election,_2008\n",
      "['PSOE', 'PP', 'IU', 'CiU', 'ERC', 'PNV', 'CC', '/wiki/Galician_Nationalist_Bloc', 'CHA', 'EA', 'NaBai', '/wiki/Unity_for_the_Isles', 'Aralar', \"C's\", 'NC', 'UPyD']\n",
      "['firm', 'date', 'size', 'turnout', 'PSOE', 'PP', 'IU', 'CiU', 'ERC', 'PNV', 'CC', '/wiki/Galician_Nationalist_Bloc', 'CHA', 'EA', 'NaBai', '/wiki/Unity_for_the_Isles', 'Aralar', \"C's\", 'NC', 'UPyD', 'lead']\n",
      "https://en.wikipedia.org/wiki/Opinion_polling_for_the_Spanish_general_election,_2011\n",
      "['PSOE', 'PP', 'IU–LV', 'CiU', 'PNV', 'UPyD', 'ERC', '/wiki/Galician_Nationalist_Bloc', 'CC', 'PA', 'GBai', 'Compromís', '/wiki/PSM%E2%80%93Nationalist_Agreement', 'UPN', 'Amaiur logo.svg', 'FAC', 'PRC', 'NCa', 'eQuo']\n",
      "['firm', 'date', 'size', 'turnout', 'PSOE', 'PP', 'IU–LV', 'CiU', 'PNV', 'UPyD', 'ERC', '/wiki/Galician_Nationalist_Bloc', 'CC', 'PA', 'GBai', 'Compromís', '/wiki/PSM%E2%80%93Nationalist_Agreement', 'UPN', 'Amaiur logo.svg', 'FAC', 'PRC', 'NCa', 'eQuo', 'lead']\n",
      "https://en.wikipedia.org/wiki/Opinion_polling_for_the_Spanish_general_election,_2015\n",
      "['PP', 'PSOE', 'IU–UPeC', 'Podemos', 'UPyD', 'ERC–CatSí', 'CiU', \"C's\", 'Vox', 'Amaiur logo.svg', 'PNV', 'eQuo', 'Compromís', '/wiki/Galician_Nationalist_Bloc', 'CC', 'PA', 'FAC', 'GBai', 'PRC', 'Més', 'CUP', 'NCa', 'CDC', 'unio.cat']\n",
      "['firm', 'date', 'size', 'turnout', 'PP', 'PSOE', 'IU–UPeC', 'Podemos', 'UPyD', 'ERC–CatSí', 'CiU', \"C's\", 'Vox', 'Amaiur logo.svg', 'PNV', 'eQuo', 'Compromís', '/wiki/Galician_Nationalist_Bloc', 'CC', 'PA', 'FAC', 'GBai', 'PRC', 'Més', 'CUP', 'NCa', 'CDC', 'unio.cat', 'lead']\n",
      "https://en.wikipedia.org/wiki/Opinion_polling_for_the_Spanish_general_election,_2016\n",
      "['PP', 'PSOE', 'Podemos', \"C's\", 'IU–UPeC', 'ERC–CatSí', 'DiL', 'PNV', 'PACMA', 'EHB.png', 'CC', '/wiki/Galician_Nationalist_Bloc', 'Isotipo Unidos Podemos.svg']\n",
      "['firm', 'date', 'size', 'turnout', 'PP', 'PSOE', 'Podemos', \"C's\", 'IU–UPeC', 'ERC–CatSí', 'DiL', 'PNV', 'PACMA', 'EHB.png', 'CC', '/wiki/Galician_Nationalist_Bloc', 'Isotipo Unidos Podemos.svg', 'lead']\n",
      "https://en.wikipedia.org/wiki/Opinion_polling_for_the_next_Spanish_general_election\n",
      "['PP', 'PSOE', 'Isotipo Unidos Podemos.svg', 'Cs', 'ERC', 'PDeCAT', 'PNV', 'PACMA', 'EHB.png', 'CC', 'Vox', 'BNG–Nós']\n",
      "['firm', 'date', 'size', 'turnout', 'PP', 'PSOE', 'Isotipo Unidos Podemos.svg', 'Cs', 'ERC', 'PDeCAT', 'PNV', 'PACMA', 'EHB.png', 'CC', 'Vox', 'BNG–Nós', 'lead']\n"
     ]
    }
   ],
   "source": [
    "all_tables = []\n",
    "country = \"Spain\"\n",
    "!mkdir data/individual_tables/$country\n",
    "\n",
    "#position table in website\n",
    "table_position = 0\n",
    "for p_url in links:\n",
    "    #Main ulr\n",
    "    #p_url = \"https://en.wikipedia.org/wiki/Opinion_polling_for_the_Spanish_general_election,_1982\"\n",
    "\n",
    "    #Get columns\n",
    "    r = requests.get(p_url)\n",
    "    html = bs.BeautifulSoup(r.text,\"html.parser\")\n",
    "    tables = html.find_all(\"table\")[table_position]\n",
    "\n",
    "    rows = tables.find_all(\"th\")\n",
    "    columns = [r.find(\"img\")[\"alt\"] if (r.find(\"img\") is not None) else (r.find(\"a\")[\"href\"] if (r.find(\"a\") is not None) else None) for r in rows ]\n",
    "    columns = [_ for _ in columns if _ is not None]\n",
    "    print(p_url)\n",
    "    print(columns)\n",
    "    #Get tables of polls\n",
    "    polls = pd.read_html(r.text,header=0)[table_position]\n",
    "\n",
    "\n",
    "    #Rename columns\n",
    "    types = [\"firm\",\"date\",\"error\",\"size\",\"lead\",\"turnout\"]\n",
    "    new_cols = []\n",
    "    for col in polls.columns:\n",
    "        flag = 0\n",
    "        for t in types:\n",
    "            if t in col.lower():\n",
    "                new_cols.append(t)\n",
    "                flag = 1\n",
    "                break\n",
    "        if flag == 0:\n",
    "            new_cols.append(columns.pop(0))\n",
    "\n",
    "    polls.columns = new_cols\n",
    "    print(list(polls.columns))\n",
    "    polls[\"date\"] = polls[\"date\"].str.split(\"–\").str[-1]\n",
    "    polls = polls.loc[polls[\"date\"].apply(check_not_number)]\n",
    "    \n",
    "    polls.to_csv(\"data/individual_tables/{}/{}.csv\".format(country,p_url.split(\"/\")[-1]))\n",
    "    \n",
    "    #all_tables.append(polls)"
   ]
  },
  {
   "cell_type": "code",
   "execution_count": 221,
   "metadata": {
    "collapsed": false
   },
   "outputs": [
    {
     "name": "stdout",
     "output_type": "stream",
     "text": [
      "datetime64[ns]\n",
      "datetime64[ns]\n",
      "datetime64[ns]\n",
      "datetime64[ns]\n",
      "datetime64[ns]\n",
      "datetime64[ns]\n",
      "datetime64[ns]\n",
      "datetime64[ns]\n",
      "datetime64[ns]\n",
      "datetime64[ns]\n",
      "datetime64[ns]\n",
      "datetime64[ns]\n"
     ]
    }
   ],
   "source": [
    "country = \"Spain\"\n",
    "\n",
    "#combine tables\n",
    "all_tables = []\n",
    "for table in os.listdir(\"./data/individual_tables/{}\".format(country)):\n",
    "    all_tables.append(pd.read_csv(\"data/individual_tables/{}/{}\".format(country,table),parse_dates=[\"date\"],na_values=[\"–\",\"?\"]))\n",
    "    print(all_tables[-1][\"date\"].dtype)"
   ]
  },
  {
   "cell_type": "code",
   "execution_count": 223,
   "metadata": {
    "collapsed": false
   },
   "outputs": [],
   "source": [
    "all_tables = pd.concat(all_tables)\n",
    "all_tables.to_csv(\"./data/all_tables_Spain.csv\",index=None)"
   ]
  },
  {
   "cell_type": "code",
   "execution_count": 224,
   "metadata": {
    "collapsed": true
   },
   "outputs": [],
   "source": [
    "def clean_data(x):\n",
    "    if isinstance(x,float):\n",
    "        return x\n",
    "    if \"w.\" in x:\n",
    "        return np.NaN\n",
    "    number = x.split(\"/\")[0].split(\"?\")[0].split(\"–\")[0].split(\"[\")[0].strip()\n",
    "    if len(number) == 0:\n",
    "        return np.NaN\n",
    "    if \"<\" in number:\n",
    "        return np.NaN\n",
    "    try:\n",
    "        return float(number)\n",
    "    except:\n",
    "        print(number)\n",
    "        print(len(number))\n",
    "        "
   ]
  },
  {
   "cell_type": "code",
   "execution_count": 235,
   "metadata": {
    "collapsed": false
   },
   "outputs": [],
   "source": [
    "#clean data\n",
    "spain = pd.read_csv(\"data/all_tables_Spain.csv\",parse_dates=[\"date\"])\n",
    "for col in spain.columns:\n",
    "    if col.lower() in types:\n",
    "        continue\n",
    "    if \"Unnamed\" in col:\n",
    "        continue\n",
    "    spain[col] = spain[col].apply(clean_data).astype(float)\n",
    "    "
   ]
  },
  {
   "cell_type": "code",
   "execution_count": 236,
   "metadata": {
    "collapsed": false
   },
   "outputs": [],
   "source": [
    "#Combining parties\n",
    "spain[\"PSOE\"] = spain[[\"PSOE\",'/wiki/Galician_Socialist_Party%E2%80%93Galician_Left','/wiki/PSM%E2%80%93Nationalist_Agreement']].sum(1)\n",
    "spain[\"BNG\"] = spain[[\"BNG–Nós\",\"/wiki/Galician_Nationalist_Bloc\"]].sum(1)\n",
    "spain[\"IU\"] = spain[[\"IU\",\"IU–LV\"]].sum(1)\n",
    "spain[\"PP\"] = spain[[\"PP\",\"AP\",\"AP-PDP-PL\",\"AP–PDP\"]].sum(1)\n",
    "spain[\"Podemos\"] = spain[[\"IU–UPeC\",\"Podemos\",\"Isotipo Unidos Podemos.svg\"]].sum(1)\n",
    "\n",
    "parties = set(list(spain.columns))\n",
    "\n",
    "#Basic cleaning and augmentating\n",
    "spain[\"firm\"] = spain[\"firm\"].str.split(\"[\").str[0]\n",
    "spain = spain.loc[~spain[\"firm\"].apply(lambda x: \"election\" in x)] #results of the elections, not polls\n",
    "spain = spain.loc[~spain[\"firm\"].apply(lambda x: \"^\" in x)] #weird polls\n",
    "spain[\"Party_poll\"] = spain[\"firm\"].apply(lambda x: any([p in x for p in parties]))\n",
    "spain[\"Newspaper_poll\"] = spain[\"firm\"].apply(lambda x: x.split(\"/\")[-1] if len(x.split(\"/\"))>1 else np.NaN)\n",
    "spain[\"Polling_firm\"] = spain[\"firm\"].str.split(\"/\").str[0]\n",
    "spain[\"Number_polling_firms\"] = spain[\"firm\"].str.count('–')+1\n",
    "\n",
    "del spain[\"Unnamed: 0\"]\n",
    "spain = spain.replace(0,np.NaN)\n",
    "#spain = spain.dropna(thresh=len(spain)/5,axis=1)\n",
    "spain.to_csv(\"./data/all_tables_Spain_cleaned.csv\")"
   ]
  },
  {
   "cell_type": "code",
   "execution_count": 237,
   "metadata": {
    "collapsed": false
   },
   "outputs": [
    {
     "data": {
      "text/html": [
       "<div>\n",
       "<style>\n",
       "    .dataframe thead tr:only-child th {\n",
       "        text-align: right;\n",
       "    }\n",
       "\n",
       "    .dataframe thead th {\n",
       "        text-align: left;\n",
       "    }\n",
       "\n",
       "    .dataframe tbody tr th {\n",
       "        vertical-align: top;\n",
       "    }\n",
       "</style>\n",
       "<table border=\"1\" class=\"dataframe\">\n",
       "  <thead>\n",
       "    <tr style=\"text-align: right;\">\n",
       "      <th></th>\n",
       "      <th>CC</th>\n",
       "      <th>CiU</th>\n",
       "      <th>ERC</th>\n",
       "      <th>IU</th>\n",
       "      <th>PNV</th>\n",
       "      <th>PP</th>\n",
       "      <th>PSOE</th>\n",
       "      <th>Podemos</th>\n",
       "      <th>UPyD</th>\n",
       "      <th>date</th>\n",
       "      <th>firm</th>\n",
       "      <th>lead</th>\n",
       "      <th>size</th>\n",
       "      <th>turnout</th>\n",
       "      <th>Party_poll</th>\n",
       "      <th>Newspaper_poll</th>\n",
       "      <th>Polling_firm</th>\n",
       "      <th>Number_polling_firms</th>\n",
       "    </tr>\n",
       "  </thead>\n",
       "  <tbody>\n",
       "    <tr>\n",
       "      <th>1975</th>\n",
       "      <td>0.62</td>\n",
       "      <td>3.012</td>\n",
       "      <td>NaN</td>\n",
       "      <td>NaN</td>\n",
       "      <td>1.15</td>\n",
       "      <td>33.5144</td>\n",
       "      <td>23.289</td>\n",
       "      <td>19.246</td>\n",
       "      <td>4.990</td>\n",
       "      <td>2014-07-05</td>\n",
       "      <td>Celeste-Tel/eldiario.es</td>\n",
       "      <td>10.3</td>\n",
       "      <td>1100.0</td>\n",
       "      <td>58.8</td>\n",
       "      <td>False</td>\n",
       "      <td>eldiario.es</td>\n",
       "      <td>Celeste-Tel</td>\n",
       "      <td>1</td>\n",
       "    </tr>\n",
       "    <tr>\n",
       "      <th>1976</th>\n",
       "      <td>NaN</td>\n",
       "      <td>2.400</td>\n",
       "      <td>NaN</td>\n",
       "      <td>NaN</td>\n",
       "      <td>1.60</td>\n",
       "      <td>28.8000</td>\n",
       "      <td>14.700</td>\n",
       "      <td>32.700</td>\n",
       "      <td>6.400</td>\n",
       "      <td>2014-06-14</td>\n",
       "      <td>Simple Lógica</td>\n",
       "      <td>2.1</td>\n",
       "      <td>1035.0</td>\n",
       "      <td>NaN</td>\n",
       "      <td>False</td>\n",
       "      <td>NaN</td>\n",
       "      <td>Simple Lógica</td>\n",
       "      <td>1</td>\n",
       "    </tr>\n",
       "    <tr>\n",
       "      <th>1977</th>\n",
       "      <td>NaN</td>\n",
       "      <td>NaN</td>\n",
       "      <td>NaN</td>\n",
       "      <td>NaN</td>\n",
       "      <td>NaN</td>\n",
       "      <td>34.6000</td>\n",
       "      <td>21.900</td>\n",
       "      <td>22.400</td>\n",
       "      <td>5.300</td>\n",
       "      <td>2014-06-11</td>\n",
       "      <td>NC Report</td>\n",
       "      <td>12.7</td>\n",
       "      <td>955.0</td>\n",
       "      <td>NaN</td>\n",
       "      <td>True</td>\n",
       "      <td>NaN</td>\n",
       "      <td>NC Report</td>\n",
       "      <td>1</td>\n",
       "    </tr>\n",
       "    <tr>\n",
       "      <th>1978</th>\n",
       "      <td>0.62</td>\n",
       "      <td>3.012</td>\n",
       "      <td>NaN</td>\n",
       "      <td>NaN</td>\n",
       "      <td>1.16</td>\n",
       "      <td>32.4139</td>\n",
       "      <td>22.394</td>\n",
       "      <td>19.541</td>\n",
       "      <td>5.712</td>\n",
       "      <td>2014-06-06</td>\n",
       "      <td>Celeste-Tel/eldiario.es</td>\n",
       "      <td>10.1</td>\n",
       "      <td>1100.0</td>\n",
       "      <td>57.9</td>\n",
       "      <td>False</td>\n",
       "      <td>eldiario.es</td>\n",
       "      <td>Celeste-Tel</td>\n",
       "      <td>1</td>\n",
       "    </tr>\n",
       "    <tr>\n",
       "      <th>1979</th>\n",
       "      <td>NaN</td>\n",
       "      <td>3.412</td>\n",
       "      <td>NaN</td>\n",
       "      <td>NaN</td>\n",
       "      <td>NaN</td>\n",
       "      <td>25.6125</td>\n",
       "      <td>19.487</td>\n",
       "      <td>23.271</td>\n",
       "      <td>7.813</td>\n",
       "      <td>2014-05-31</td>\n",
       "      <td>GESOP/El Periódico</td>\n",
       "      <td>6.2</td>\n",
       "      <td>1000.0</td>\n",
       "      <td>NaN</td>\n",
       "      <td>False</td>\n",
       "      <td>El Periódico</td>\n",
       "      <td>GESOP</td>\n",
       "      <td>1</td>\n",
       "    </tr>\n",
       "  </tbody>\n",
       "</table>\n",
       "</div>"
      ],
      "text/plain": [
       "        CC    CiU  ERC  IU   PNV       PP    PSOE  Podemos   UPyD       date  \\\n",
       "1975  0.62  3.012  NaN NaN  1.15  33.5144  23.289   19.246  4.990 2014-07-05   \n",
       "1976   NaN  2.400  NaN NaN  1.60  28.8000  14.700   32.700  6.400 2014-06-14   \n",
       "1977   NaN    NaN  NaN NaN   NaN  34.6000  21.900   22.400  5.300 2014-06-11   \n",
       "1978  0.62  3.012  NaN NaN  1.16  32.4139  22.394   19.541  5.712 2014-06-06   \n",
       "1979   NaN  3.412  NaN NaN   NaN  25.6125  19.487   23.271  7.813 2014-05-31   \n",
       "\n",
       "                         firm  lead    size turnout  Party_poll  \\\n",
       "1975  Celeste-Tel/eldiario.es  10.3  1100.0    58.8       False   \n",
       "1976            Simple Lógica   2.1  1035.0     NaN       False   \n",
       "1977                NC Report  12.7   955.0     NaN        True   \n",
       "1978  Celeste-Tel/eldiario.es  10.1  1100.0    57.9       False   \n",
       "1979       GESOP/El Periódico   6.2  1000.0     NaN       False   \n",
       "\n",
       "     Newspaper_poll   Polling_firm  Number_polling_firms  \n",
       "1975    eldiario.es    Celeste-Tel                     1  \n",
       "1976            NaN  Simple Lógica                     1  \n",
       "1977            NaN      NC Report                     1  \n",
       "1978    eldiario.es    Celeste-Tel                     1  \n",
       "1979   El Periódico          GESOP                     1  "
      ]
     },
     "execution_count": 237,
     "metadata": {},
     "output_type": "execute_result"
    }
   ],
   "source": [
    "spain = spain.dropna(thresh=len(spain)/5,axis=1)\n",
    "spain.tail()"
   ]
  },
  {
   "cell_type": "markdown",
   "metadata": {},
   "source": [
    "# Systematical"
   ]
  },
  {
   "cell_type": "code",
   "execution_count": null,
   "metadata": {
    "collapsed": true
   },
   "outputs": [],
   "source": [
    "#Opinion polling by country\n",
    "https://en.wikipedia.org/wiki/Category:Opinion_polling_by_country"
   ]
  },
  {
   "cell_type": "code",
   "execution_count": null,
   "metadata": {
    "collapsed": true
   },
   "outputs": [],
   "source": []
  },
  {
   "cell_type": "code",
   "execution_count": null,
   "metadata": {
    "collapsed": true
   },
   "outputs": [],
   "source": []
  },
  {
   "cell_type": "code",
   "execution_count": null,
   "metadata": {
    "collapsed": true
   },
   "outputs": [],
   "source": []
  },
  {
   "cell_type": "code",
   "execution_count": null,
   "metadata": {
    "collapsed": true
   },
   "outputs": [],
   "source": []
  }
 ],
 "metadata": {
  "anaconda-cloud": {},
  "kernelspec": {
   "display_name": "Python [default]",
   "language": "python",
   "name": "python3"
  },
  "language_info": {
   "codemirror_mode": {
    "name": "ipython",
    "version": 3
   },
   "file_extension": ".py",
   "mimetype": "text/x-python",
   "name": "python",
   "nbconvert_exporter": "python",
   "pygments_lexer": "ipython3",
   "version": "3.5.2"
  }
 },
 "nbformat": 4,
 "nbformat_minor": 1
}
